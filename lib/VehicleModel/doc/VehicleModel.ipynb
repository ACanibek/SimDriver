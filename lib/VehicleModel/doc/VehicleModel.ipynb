{
 "cells": [
  {
   "cell_type": "markdown",
   "metadata": {},
   "source": [
    "# Vehicle Model"
   ]
  },
  {
   "cell_type": "markdown",
   "metadata": {},
   "source": [
    "## Longitudinal Model"
   ]
  },
  {
   "cell_type": "markdown",
   "metadata": {},
   "source": [
    "The vehicle model has the following characteristics:\n",
    "\n",
    "* The vehicle has a mass $m$.\n",
    "* The vehicle has two driven axles.\n",
    "* The vehicle has four brakeable wheels.\n",
    "* The vehicle has two (equal) electric motors, one for each axle.\n",
    "* A motor has a nominal (maximum) power $P_\\text{nom}$ and an actual power $P$.\n",
    "* A motor has a nominal (maximum) torque $M_\\text{nom}$ and an actual power $M$.\n",
    "* The motor speed is given by $\\omega$ or $n = \\frac{\\omega}{2 \\pi}$.\n",
    "* The wheels of the wehicle have a dynamic wheel radius of $r_\\text{dyn}$. \n",
    "* The vehile speed can be calculated by $v = \\omega \\cdot r_\\text{dyn}$.\n",
    "* The relation of power and torque is given by $P = M \\cdot \\omega = M \\cdot 2 \\pi \\cdot n$.\n",
    "* The motor speed at which the motor torque drops below the nominal torque is defined as $n_\\text{nom} = \\frac{P_\\text{nom}}{M_\\text{nom}}$.\n",
    "* The nominal vehicle speed is consequently $v_\\text{nom} = 2 \\pi \\cdot n_\\text{nom} \\cdot r_\\text{dyn}$.\n",
    "* The drive train has a efficiency of $\\mu$ between motor and wheels, the power per wheel splits equally, such that $P_\\text{wh} = \\frac{1}{2} \\cdot \\mu \\cdot P$.\n",
    "* The drive train has a transition of $i$, which leads to $i = \\frac{n}{n_\\text{wh}}$ or $i = \\frac{\\omega}{\\omega_\\text{wh}}$.\n",
    "* The torque between motor and wheel is defined by $M_\\text{wh,dr} = \\frac{1}{2} \\cdot \\mu \\cdot i \\cdot M$.\n",
    "* The wheel drive force can consequently be calculated by $F_\\text{wh,dr} = \\frac{M_\\text{wh}}{r_\\text{dyn}} = \\frac{\\mu \\cdot i \\cdot P}{2 \\cdot \\omega \\cdot r_\\text{dyn}}$.\n",
    "* The vehicle has a nominal (maximum) brake torque $M_\\text{br}$ per wheel.\n",
    "* The wheel brake force can consequently be calculated by $F_\\text{wh,br} = \\frac{M_\\text{br}}{r_\\text{dyn}}$.\n",
    "* The acceleration of the vehicle can be expressed as $a = 4 \\cdot \\frac{F_\\text{wh}}{m}$"
   ]
  },
  {
   "cell_type": "markdown",
   "metadata": {},
   "source": [
    "Accelerating and decelerating the vehicle:\n",
    "\n",
    "* The pedal input $p$ describes the driver input to the vehicle, the pedal output describes the ratio of requested to nominal power ($p_\\text{dr}$, blue) and requested brake torque to nominal brake torque ($p_\\text{br}$, red).\n",
    "* The vehicle has an idle power ratio $p_\\text{idle}$, where $p=0$ and $p_\\text{dr} = p_\\text{idle}$.\n",
    "* The relation between input and output is $p_\\text{dr} = p \\cdot (1 - p_\\text{idle}) + p_\\text{idle}$ for $p_0 \\le p \\le  1$ with $p_0 = \\frac{p_\\text{idle}}{p_\\text{idle} - 1}$.\n",
    "* The requested power is the nominal power multiplied by the pedal output $P = p_\\text{dr} \\cdot P_\\text{nom}$ for $v > v_\\text{nom}$.\n",
    "* The acceleration can be expressed dependent on the pedal output $a = 4 \\cdot \\frac{\\mu \\cdot i \\cdot p_\\text{dr} \\cdot P_\\text{nom}}{2 \\cdot \\omega \\cdot r_\\text{dyn} \\cdot m} = \\frac{2 \\cdot \\mu \\cdot i \\cdot p_\\text{dr} \\cdot P_\\text{nom}}{v \\cdot m} = \\frac{p_\\text{dr}}{v} \\cdot \\frac{2 \\cdot \\mu \\cdot i \\cdot P_\\text{nom}}{m}$.\n",
    "* The static part can be expressed as the nominal acceleration ability $a_\\text{nom,dr} = \\frac{2 \\cdot \\mu \\cdot i \\cdot P_\\text{nom}}{m}$, such that $a = \\frac{p_\\text{dr}}{v} \\cdot a_\\text{nom,dr} = \\frac{p \\cdot (1 - p_\\text{idle}) + p_\\text{idle}}{v} \\cdot a_\\text{nom,dr}$.\n",
    "* The requested torque is the nominal torque multiplied by the pedal output $M = p_\\text{dr} \\cdot M_\\text{nom}$ for $v \\leq v_\\text{nom}$.\n",
    "* Analoguous to above, the acceleration can be expressed dependent on the pedal output $a = 4 \\cdot \\frac{\\mu \\cdot i \\cdot p_\\text{dr} \\cdot M_\\text{nom}}{2 \\cdot r_\\text{dyn} \\cdot m} = p_\\text{dr} \\cdot \\frac{2 \\cdot \\mu \\cdot i \\cdot M_\\text{nom}}{r_\\text{dyn} \\cdot m}$.\n",
    "* The static part can be expressed as the nominal acceleration ability for low speeds $a_\\text{nom,dr,low} = \\frac{2 \\cdot \\mu \\cdot i \\cdot M_\\text{nom}}{r_\\text{dyn} \\cdot m}$, with the condition that $a_\\text{nom,dr,low} = a_\\text{nom,dr}$ when $v = v_\\text{nom}$.\n",
    "* The brake request is defined $p_\\text{br} = -p$ for $-1 \\le p \\le 0$.\n",
    "* The deceleration can be calculated by $a_\\text{br} = 4 \\cdot \\frac{p_\\text{br} \\cdot M_\\text{br}}{r_\\text{dyn} \\cdot m}$.\n",
    "* The static part again can be separated as a nominal specific brake deceleration $a_\\text{br} = -p \\cdot \\frac{4 \\cdot M_\\text{br}}{r_\\text{dyn} \\cdot m} = -p \\cdot a_\\text{nom,br}$ for $-1 \\le p \\le 0$"
   ]
  },
  {
   "cell_type": "markdown",
   "metadata": {},
   "source": [
    "![Characteristc Diagram Pedals](img/CharacteristicPedals.svg)"
   ]
  },
  {
   "cell_type": "markdown",
   "metadata": {},
   "source": [
    "## Conclusions"
   ]
  },
  {
   "cell_type": "markdown",
   "metadata": {},
   "source": []
  },
  {
   "cell_type": "code",
   "execution_count": null,
   "metadata": {},
   "outputs": [],
   "source": []
  },
  {
   "cell_type": "code",
   "execution_count": null,
   "metadata": {},
   "outputs": [],
   "source": []
  },
  {
   "cell_type": "code",
   "execution_count": null,
   "metadata": {},
   "outputs": [],
   "source": []
  }
 ],
 "metadata": {
  "kernelspec": {
   "display_name": "Python 3",
   "language": "python",
   "name": "python3"
  },
  "language_info": {
   "codemirror_mode": {
    "name": "ipython",
    "version": 3
   },
   "file_extension": ".py",
   "mimetype": "text/x-python",
   "name": "python",
   "nbconvert_exporter": "python",
   "pygments_lexer": "ipython3",
   "version": "3.7.3"
  }
 },
 "nbformat": 4,
 "nbformat_minor": 2
}
