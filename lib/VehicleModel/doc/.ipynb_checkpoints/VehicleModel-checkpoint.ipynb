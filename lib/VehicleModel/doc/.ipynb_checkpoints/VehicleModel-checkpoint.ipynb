{
 "cells": [
  {
   "cell_type": "markdown",
   "metadata": {},
   "source": [
    "# Vehicle Model"
   ]
  },
  {
   "cell_type": "markdown",
   "metadata": {},
   "source": [
    "The vehicle model has the following characteristics:\n",
    "\n",
    "* Electric vehicle with two motors, one for each axle.\n",
    "* A motor has a nominal (maximum) power $P_\\text{nom}$ and an actual power $P$.\n",
    "* A motor has a nominal (maximum) torque $M_\\text{nom}$ and an actual power $M$.\n",
    "* The motor speed is given by $\\omega$ or $n = \\frac{\\omega}{2 \\pi}$.\n",
    "* The wheels of the wehicle have a dynamic wheel radius of $r_\\text{dyn}$. \n",
    "* The vehile speed can be calculated by $v = \\omega \\cdot r_\\text{dyn}$.\n",
    "* The relation of power and torque is given by $P = M \\cdot \\omega = M \\cdot 2 \\pi \\cdot n$.\n",
    "* The motor speed at which the motor torque drops below the nominal torque is defined as $n_\\text{nom} = \\frac{P_\\text{nom}}{M_\\text{nom}}$.\n",
    "* The nominal vehicle speed is consequently $v_\\text{nom} = 2 \\pi \\cdot n_\\text{nom} \\cdot r_\\text{dyn}$.\n",
    "* The drive train has a efficiency of $\\nu$ between motor and wheel ($P_\\text{wh} = \\mu \\cdot P$).\n",
    "* The drive train has a transition of $i$, which leads to $i = \\frac{n}{n_\\text{wh}}$ or $i = \\frac{\\omega}{\\omega_\\text{wh}}$.\n",
    "* The torque between motor and wheel is defined by $M_\\text{wh} = \\mu \\cdot i \\cdot M$.\n",
    "* The vehicle has a nomrinal (maximum) brake torque $M_\\text{br}$ per wheel."
   ]
  },
  {
   "cell_type": "markdown",
   "metadata": {},
   "source": [
    "Accelerating and decelerating the vehicle:\n",
    "\n",
    "* The vehicle has a mass $m$.\n",
    "* The vehicle has two driven axles.\n",
    "* The vehicle has four brakeable wheels.\n",
    "* The pedal input $p$ describes the driver input to the vehicle, the pedal output describes the ratio of requested to nominal power ($p_\\text{dr}$, blue) and requested brake torque to nominal brake torque ($p_\\text{br}$, red).\n",
    "* The vehicle has an idle power ratio $p_\\text{idle}$, where $p=0$ and $p_\\text{dr} = p_\\text{idle}$.\n",
    "* The "
   ]
  },
  {
   "cell_type": "markdown",
   "metadata": {},
   "source": [
    "![Characteristc Diagram Pedals](img/CharacteristicPedals.svg)"
   ]
  },
  {
   "cell_type": "code",
   "execution_count": null,
   "metadata": {},
   "outputs": [],
   "source": []
  },
  {
   "cell_type": "code",
   "execution_count": null,
   "metadata": {},
   "outputs": [],
   "source": []
  }
 ],
 "metadata": {
  "kernelspec": {
   "display_name": "Python 3",
   "language": "python",
   "name": "python3"
  },
  "language_info": {
   "codemirror_mode": {
    "name": "ipython",
    "version": 3
   },
   "file_extension": ".py",
   "mimetype": "text/x-python",
   "name": "python",
   "nbconvert_exporter": "python",
   "pygments_lexer": "ipython3",
   "version": "3.7.3"
  }
 },
 "nbformat": 4,
 "nbformat_minor": 2
}
