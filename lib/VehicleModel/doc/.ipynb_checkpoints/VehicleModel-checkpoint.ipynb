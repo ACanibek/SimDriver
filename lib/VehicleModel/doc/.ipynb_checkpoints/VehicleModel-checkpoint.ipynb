{
 "cells": [
  {
   "cell_type": "markdown",
   "metadata": {},
   "source": [
    "# Vehicle Model"
   ]
  },
  {
   "cell_type": "markdown",
   "metadata": {},
   "source": [
    "The vehicle model has the following characteristics:\n",
    "\n",
    "* Electric vehicle with two motors, one for each axle\n",
    "* A motor has a nominal (maximum) power $P_\\text{nom}$ \n",
    "* A motor has a nominal (maximum) torque $M_\\text{nom}$ \n",
    "* The motor speed is given by $\\omega$ or $n = \\frac{\\omega}{2 \\pi}$\n",
    "* The relation of power and torque is given by $P = M \\cdot \\omega = M \\cdot 2 \\pi \\cdot n$\n",
    "* The motor speed at which the motor torque drops below the nominal torque is defined as $n_\\text{nom} = \\frac{P_\\text{nom}}{M_\\text{nom}}$\n",
    "* The drive train has a efficiency of $\\nu$ between motor and wheel ($P_\\text{wh} = \\mu \\cdot P_\\text{nom}$)\n",
    "* The drive train has a transition of $i$ between motor and wheel ($M_\\text{wh} = i \\cdot M_\\text{nom}$)\n",
    "* The wheel speed can be calculated by $n_\\text{wh} = \\frac{n}{i}$ or $\\omega_"
   ]
  },
  {
   "cell_type": "code",
   "execution_count": null,
   "metadata": {},
   "outputs": [],
   "source": []
  }
 ],
 "metadata": {
  "kernelspec": {
   "display_name": "Python 3",
   "language": "python",
   "name": "python3"
  },
  "language_info": {
   "codemirror_mode": {
    "name": "ipython",
    "version": 3
   },
   "file_extension": ".py",
   "mimetype": "text/x-python",
   "name": "python",
   "nbconvert_exporter": "python",
   "pygments_lexer": "ipython3",
   "version": "3.7.3"
  }
 },
 "nbformat": 4,
 "nbformat_minor": 2
}
